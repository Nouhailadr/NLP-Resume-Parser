{
  "cells": [
    {
      "cell_type": "code",
      "execution_count": 4,
      "metadata": {
        "id": "jtWqDTztezkn"
      },
      "outputs": [],
      "source": [
        "import pandas\n",
        "import spacy\n",
        "import nltk\n",
        "import matplotlib.pyplot as plt\n",
        "from nltk import pos_tag\n",
        "from nltk.corpus import stopwords\n",
        "import string\n",
        "import re"
      ]
    },
    {
      "cell_type": "code",
      "execution_count": 5,
      "metadata": {
        "colab": {
          "base_uri": "https://localhost:8080/"
        },
        "id": "jdG4tvpBe_go",
        "outputId": "ea89d862-5e92-4106-85f7-8cefac05fbde"
      },
      "outputs": [
        {
          "name": "stderr",
          "output_type": "stream",
          "text": [
            "[nltk_data] Downloading package averaged_perceptron_tagger to\n",
            "[nltk_data]     C:\\Users\\HP\\AppData\\Roaming\\nltk_data...\n",
            "[nltk_data]   Package averaged_perceptron_tagger is already up-to-\n",
            "[nltk_data]       date!\n",
            "[nltk_data] Downloading package stopwords to\n",
            "[nltk_data]     C:\\Users\\HP\\AppData\\Roaming\\nltk_data...\n",
            "[nltk_data]   Package stopwords is already up-to-date!\n",
            "[nltk_data] Downloading package wordnet to\n",
            "[nltk_data]     C:\\Users\\HP\\AppData\\Roaming\\nltk_data...\n",
            "[nltk_data]   Package wordnet is already up-to-date!\n",
            "[nltk_data] Downloading package omw-1.4 to\n",
            "[nltk_data]     C:\\Users\\HP\\AppData\\Roaming\\nltk_data...\n",
            "[nltk_data]   Package omw-1.4 is already up-to-date!\n"
          ]
        },
        {
          "data": {
            "text/plain": [
              "True"
            ]
          },
          "execution_count": 5,
          "metadata": {},
          "output_type": "execute_result"
        }
      ],
      "source": [
        "nltk.download('averaged_perceptron_tagger')\n",
        "nltk.download('stopwords')\n",
        "nltk.download('wordnet')\n",
        "nltk.download('omw-1.4')"
      ]
    },
    {
      "cell_type": "code",
      "execution_count": 6,
      "metadata": {
        "colab": {
          "base_uri": "https://localhost:8080/",
          "height": 139
        },
        "id": "pxRUvCbIfCQt",
        "outputId": "b9502392-2f8f-4b7e-fac5-19d918a6b5a2"
      },
      "outputs": [
        {
          "data": {
            "text/plain": [
              "'Data mining or extracting usable data from valuable data sources Using machine learning tools to select features, create and optimize classifiers Carrying out preprocessing of structured and unstructured data Enhancing data collection procedures to include all relevant information for developing analytic systems Processing, cleansing, and validating the integrity of data to be used for analysis Analyzing large amounts of information to find patterns and solutions Developing prediction systems and machine learning algorithms Presenting results in a clear manner Propose solutions and strategies to tackle business challenges Collaborate with Business and IT teams Become a Data Science Expert & Get Your Dream Job Professional Certificate Program In Data ScienceEXPLORE PROGRAMBecome a Data Science Expert & Get Your Dream Job Data Scientist Skills You need to master the skills required for data scientist jobs in various industries and organizations if you want to pursue a data scientist career. Let’s look at the must-have data scientist qualifications. Key skills needed to become a data scientist: Programming Skills – knowledge of statistical programming languages like R, Python, and database query languages like SQL, Hive, Pig is desirable. Familiarity with Scala, Java, or C++ is an added advantage. Statistics – Good applied statistical skills, including knowledge of statistical tests, distributions, regression, maximum likelihood estimators, etc. Proficiency in statistics is essential for data-driven companies. Machine Learning – good knowledge of machine learning methods like k-Nearest Neighbors, Naive Bayes, SVM, Decision Forests. Strong Math Skills (Multivariable Calculus and Linear Algebra) - understanding the fundamentals of Multivariable Calculus and Linear Algebra is important as they form the basis of a lot of predictive performance or algorithm optimization techniques. Data Wrangling – proficiency in handling imperfections in data is an important aspect of a data scientist job description. Experience with Data Visualization Tools like matplotlib, ggplot, d3.js., Tableau that help to visually encode data Excellent Communication Skills – it is incredibly important to describe findings to a technical and non-technical audience. Strong Software Engineering Background Hands-on experience with data science tools Problem-solving aptitude Analytical mind and great business sense Degree in Computer Science, Engineering or relevant field is preferred Proven Experience as Data Analyst or Data Scientist'"
            ]
          },
          "execution_count": 6,
          "metadata": {},
          "output_type": "execute_result"
        }
      ],
      "source": [
        "job_desc=\"Data mining or extracting usable data from valuable data sources Using machine learning tools to select features, create and optimize classifiers Carrying out preprocessing of structured and unstructured data Enhancing data collection procedures to include all relevant information for developing analytic systems Processing, cleansing, and validating the integrity of data to be used for analysis Analyzing large amounts of information to find patterns and solutions Developing prediction systems and machine learning algorithms Presenting results in a clear manner Propose solutions and strategies to tackle business challenges Collaborate with Business and IT teams Become a Data Science Expert & Get Your Dream Job Professional Certificate Program In Data ScienceEXPLORE PROGRAMBecome a Data Science Expert & Get Your Dream Job Data Scientist Skills You need to master the skills required for data scientist jobs in various industries and organizations if you want to pursue a data scientist career. Let’s look at the must-have data scientist qualifications. Key skills needed to become a data scientist: Programming Skills – knowledge of statistical programming languages like R, Python, and database query languages like SQL, Hive, Pig is desirable. Familiarity with Scala, Java, or C++ is an added advantage. Statistics – Good applied statistical skills, including knowledge of statistical tests, distributions, regression, maximum likelihood estimators, etc. Proficiency in statistics is essential for data-driven companies. Machine Learning – good knowledge of machine learning methods like k-Nearest Neighbors, Naive Bayes, SVM, Decision Forests. Strong Math Skills (Multivariable Calculus and Linear Algebra) - understanding the fundamentals of Multivariable Calculus and Linear Algebra is important as they form the basis of a lot of predictive performance or algorithm optimization techniques. Data Wrangling – proficiency in handling imperfections in data is an important aspect of a data scientist job description. Experience with Data Visualization Tools like matplotlib, ggplot, d3.js., Tableau that help to visually encode data Excellent Communication Skills – it is incredibly important to describe findings to a technical and non-technical audience. Strong Software Engineering Background Hands-on experience with data science tools Problem-solving aptitude Analytical mind and great business sense Degree in Computer Science, Engineering or relevant field is preferred Proven Experience as Data Analyst or Data Scientist\"\n",
        "job_desc"
      ]
    },
    {
      "cell_type": "markdown",
      "metadata": {
        "id": "zwMNAIgffKep"
      },
      "source": [
        "### **Job description pre-processing**"
      ]
    },
    {
      "cell_type": "code",
      "execution_count": 7,
      "metadata": {
        "colab": {
          "base_uri": "https://localhost:8080/"
        },
        "id": "AwCSXw_8fFWo",
        "outputId": "34e08397-fa4d-42ac-89a4-8b40e2384e43"
      },
      "outputs": [
        {
          "name": "stdout",
          "output_type": "stream",
          "text": [
            "Job Descrption token lentgh :  351\n",
            "Job Descrption twithout stop words lentgh :  263\n"
          ]
        }
      ],
      "source": [
        "job_desc = \"\".join([c for c in job_desc if c not in string.punctuation])\n",
        "job_desc_token = re.split('\\W+',job_desc)\n",
        "print(\"Job Descrption token lentgh : \", len(job_desc_token))\n",
        "job_desc = job_desc_token\n",
        "job_desc_sp = [word for word in job_desc_token if word not in nltk.corpus.stopwords.words('english')]\n",
        "job_desc = job_desc_sp\n",
        "print(\"Job Descrption twithout stop words lentgh : \", len(job_desc_sp))"
      ]
    },
    {
      "cell_type": "code",
      "execution_count": 8,
      "metadata": {
        "id": "Y4Wfibv3fiHp"
      },
      "outputs": [],
      "source": [
        "ln=nltk.WordNetLemmatizer()\n",
        "lemm=[ln.lemmatize(word) for word in job_desc]\n",
        "job_desc = lemm"
      ]
    },
    {
      "cell_type": "code",
      "execution_count": 9,
      "metadata": {
        "id": "ApSvyXzjfmfY"
      },
      "outputs": [],
      "source": [
        "#difference = [x for x in job_desc if x not in lemm]\n",
        "#print(difference)\n",
        "#pour comparer les differences entre els deux listes job_desc et lemm"
      ]
    },
    {
      "cell_type": "code",
      "execution_count": 10,
      "metadata": {
        "colab": {
          "base_uri": "https://localhost:8080/"
        },
        "id": "08FXUO32fvgr",
        "outputId": "8a15a6b5-47ec-47a1-ac95-f4e5ab22274e"
      },
      "outputs": [
        {
          "name": "stdout",
          "output_type": "stream",
          "text": [
            "['Data', 'mining', 'extracting', 'usable', 'data', 'valuable', 'data', 'source', 'Using', 'machine', 'learning', 'tool', 'select', 'feature', 'create', 'optimize', 'classifier', 'Carrying', 'preprocessing', 'structured', 'unstructured', 'data', 'Enhancing', 'data', 'collection', 'procedure', 'include', 'relevant', 'information', 'developing', 'analytic', 'system', 'Processing', 'cleansing', 'validating', 'integrity', 'data', 'used', 'analysis', 'Analyzing', 'large', 'amount', 'information', 'find', 'pattern', 'solution', 'Developing', 'prediction', 'system', 'machine', 'learning', 'algorithm', 'Presenting', 'result', 'clear', 'manner', 'Propose', 'solution', 'strategy', 'tackle', 'business', 'challenge', 'Collaborate', 'Business', 'IT', 'team', 'Become', 'Data', 'Science', 'Expert', 'Get', 'Your', 'Dream', 'Job', 'Professional', 'Certificate', 'Program', 'In', 'Data', 'ScienceEXPLORE', 'PROGRAMBecome', 'Data', 'Science', 'Expert', 'Get', 'Your', 'Dream', 'Job', 'Data', 'Scientist', 'Skills', 'You', 'need', 'master', 'skill', 'required', 'data', 'scientist', 'job', 'various', 'industry', 'organization', 'want', 'pursue', 'data', 'scientist', 'career', 'Let', 'look', 'musthave', 'data', 'scientist', 'qualification', 'Key', 'skill', 'needed', 'become', 'data', 'scientist', 'Programming', 'Skills', 'knowledge', 'statistical', 'programming', 'language', 'like', 'R', 'Python', 'database', 'query', 'language', 'like', 'SQL', 'Hive', 'Pig', 'desirable', 'Familiarity', 'Scala', 'Java', 'C', 'added', 'advantage', 'Statistics', 'Good', 'applied', 'statistical', 'skill', 'including', 'knowledge', 'statistical', 'test', 'distribution', 'regression', 'maximum', 'likelihood', 'estimator', 'etc', 'Proficiency', 'statistic', 'essential', 'datadriven', 'company', 'Machine', 'Learning', 'good', 'knowledge', 'machine', 'learning', 'method', 'like', 'kNearest', 'Neighbors', 'Naive', 'Bayes', 'SVM', 'Decision', 'Forests', 'Strong', 'Math', 'Skills', 'Multivariable', 'Calculus', 'Linear', 'Algebra', 'understanding', 'fundamental', 'Multivariable', 'Calculus', 'Linear', 'Algebra', 'important', 'form', 'basis', 'lot', 'predictive', 'performance', 'algorithm', 'optimization', 'technique', 'Data', 'Wrangling', 'proficiency', 'handling', 'imperfection', 'data', 'important', 'aspect', 'data', 'scientist', 'job', 'description', 'Experience', 'Data', 'Visualization', 'Tools', 'like', 'matplotlib', 'ggplot', 'd3js', 'Tableau', 'help', 'visually', 'encode', 'data', 'Excellent', 'Communication', 'Skills', 'incredibly', 'important', 'describe', 'finding', 'technical', 'nontechnical', 'audience', 'Strong', 'Software', 'Engineering', 'Background', 'Handson', 'experience', 'data', 'science', 'tool', 'Problemsolving', 'aptitude', 'Analytical', 'mind', 'great', 'business', 'sense', 'Degree', 'Computer', 'Science', 'Engineering', 'relevant', 'field', 'preferred', 'Proven', 'Experience', 'Data', 'Analyst', 'Data', 'Scientist']\n"
          ]
        }
      ],
      "source": [
        "print(job_desc)"
      ]
    },
    {
      "cell_type": "markdown",
      "metadata": {
        "id": "32koCNSVfqH6"
      },
      "source": [
        "### **Create a set of skills and key terms from the job description**"
      ]
    },
    {
      "cell_type": "code",
      "execution_count": 12,
      "metadata": {
        "id": "YnpMZYnIfnkq"
      },
      "outputs": [],
      "source": [
        "nlp = spacy.load(\"en_core_web_sm\") #traitement du texte en anglais (en_core_web_sm) dans un objet nlp en chargeant le modèle spaCy\n",
        "desc = nlp(' '.join([c for c in job_desc]))\n",
        "def unique_list(text):\n",
        "    return set(' '.join([c for c in text]).lower().split(' '))\n",
        "skills_list = set(' '.join([chunk.text for chunk in desc.noun_chunks]+[token.lemma_ for token in desc if token.pos_ == \"VERB\"]+[entity.text for entity in desc.ents]).lower().split(' '))"
      ]
    },
    {
      "cell_type": "markdown",
      "metadata": {
        "id": "H8xB3mL7hpaN"
      },
      "source": [
        "### **List of skills in job description**"
      ]
    },
    {
      "cell_type": "code",
      "execution_count": 13,
      "metadata": {
        "colab": {
          "base_uri": "https://localhost:8080/"
        },
        "id": "YXrb8Wc8f-94",
        "outputId": "988cd31e-d516-4708-b56a-7c29a1272892"
      },
      "outputs": [
        {
          "name": "stdout",
          "output_type": "stream",
          "text": [
            "{'system', 'mining', 'your', 'look', 'enhance', 'maximum', 'technical', 'include', 'let', 'pig', 'find', 'musthave', 'valuable', 'decision', 'experience', 'nontechnical', 'organization', 'good', 'understand', 'qualification', 'create', 'validate', 'wrangling', 'linear', 'enhancing', 'familiarity', 'c', 'tools', 'neighbors', 'it', 'data', 'information', 'datadriven', 'handling', 'visually', 'processing', 'prediction', 'solution', 'analytical', 'use', 'need', 'imperfection', 'validating', 'aspect', 'learning', 'sql', 'career', 'usable', 'skills', 'background', 'analysis', 'handson', 'important', 'science', 'preferred', 'require', 'etc', 'description', 'procedure', 'optimize', 'tool', 'advantage', 'structure', 'pursue', 'knowledge', 'help', 'strong', 'excellent', 'multivariable', 'certificate', 'program', 'programbecome', 'forests', 'job', 'analyst', 'desirable', 'calculus', 'become', 'you', 'scala', 'visualization', 'professional', 'company', 'analyze', 'algebra', 'python', 'encode', 'various', 'fundamental', 'apply', 'statistics', 'collaborate', 'predictive', 'business', 'computer', 'industry', 'add', 'bayes', 'prefer', 'degree', 'unstructured', 'analytic', 'language', 'knearest', 'proficiency', 'develop', 'feature', 'machine', 'expert', 'field', 'key', 'hive', 'audience', 'challenge', 'mind', 'query', 'scientist', 'required', 'extract', 'master', 'svm', 'relevant', 'communication', 'naive', 'learn', 'essential', 'database', 'statistic', 'large', 'cleanse', 'want', 'great', 'team', 'software', 'estimator', 'java', 'incredibly', 'classifier', 'dream', 'collection', 'amount', 'pattern', 'tableau', 'preprocesse', 'engineering', 'select', 'skill', 'result', 'programming', 'describe', 'source', 'get', 'performance', 'presenting', 'likelihood', 'math', 'r', 'matplotlib', 'carrying', 'proven', 'problemsolving', 'integrity', 'statistical', 'ggplot', 'sense', 'structured'}\n"
          ]
        }
      ],
      "source": [
        "print(skills_list)"
      ]
    },
    {
      "cell_type": "markdown",
      "metadata": {
        "id": "7z2pBFwpiKKT"
      },
      "source": [
        "## **Load dataset**"
      ]
    },
    {
      "cell_type": "code",
      "execution_count": 14,
      "metadata": {
        "id": "3I3Bsnznhwpc"
      },
      "outputs": [],
      "source": [
        "df=pandas.read_csv('UpdatedResumeDataSet.csv')"
      ]
    },
    {
      "cell_type": "code",
      "execution_count": 15,
      "metadata": {
        "colab": {
          "base_uri": "https://localhost:8080/",
          "height": 206
        },
        "id": "0-yxsBnGiU2n",
        "outputId": "d436b014-1d46-46a1-ec44-6415512c1ec5"
      },
      "outputs": [
        {
          "data": {
            "text/html": [
              "<div>\n",
              "<style scoped>\n",
              "    .dataframe tbody tr th:only-of-type {\n",
              "        vertical-align: middle;\n",
              "    }\n",
              "\n",
              "    .dataframe tbody tr th {\n",
              "        vertical-align: top;\n",
              "    }\n",
              "\n",
              "    .dataframe thead th {\n",
              "        text-align: right;\n",
              "    }\n",
              "</style>\n",
              "<table border=\"1\" class=\"dataframe\">\n",
              "  <thead>\n",
              "    <tr style=\"text-align: right;\">\n",
              "      <th></th>\n",
              "      <th>Category</th>\n",
              "      <th>Resume</th>\n",
              "    </tr>\n",
              "  </thead>\n",
              "  <tbody>\n",
              "    <tr>\n",
              "      <th>0</th>\n",
              "      <td>Data Science</td>\n",
              "      <td>Skills * Programming Languages: Python (pandas...</td>\n",
              "    </tr>\n",
              "    <tr>\n",
              "      <th>1</th>\n",
              "      <td>Data Science</td>\n",
              "      <td>Education Details \\r\\nMay 2013 to May 2017 B.E...</td>\n",
              "    </tr>\n",
              "    <tr>\n",
              "      <th>2</th>\n",
              "      <td>Data Science</td>\n",
              "      <td>Areas of Interest Deep Learning, Control Syste...</td>\n",
              "    </tr>\n",
              "    <tr>\n",
              "      <th>3</th>\n",
              "      <td>Data Science</td>\n",
              "      <td>Skills â¢ R â¢ Python â¢ SAP HANA â¢ Table...</td>\n",
              "    </tr>\n",
              "    <tr>\n",
              "      <th>4</th>\n",
              "      <td>Data Science</td>\n",
              "      <td>Education Details \\r\\n MCA   YMCAUST,  Faridab...</td>\n",
              "    </tr>\n",
              "  </tbody>\n",
              "</table>\n",
              "</div>"
            ],
            "text/plain": [
              "       Category                                             Resume\n",
              "0  Data Science  Skills * Programming Languages: Python (pandas...\n",
              "1  Data Science  Education Details \\r\\nMay 2013 to May 2017 B.E...\n",
              "2  Data Science  Areas of Interest Deep Learning, Control Syste...\n",
              "3  Data Science  Skills â¢ R â¢ Python â¢ SAP HANA â¢ Table...\n",
              "4  Data Science  Education Details \\r\\n MCA   YMCAUST,  Faridab..."
            ]
          },
          "execution_count": 15,
          "metadata": {},
          "output_type": "execute_result"
        }
      ],
      "source": [
        "df.head()"
      ]
    },
    {
      "cell_type": "code",
      "execution_count": 16,
      "metadata": {
        "colab": {
          "base_uri": "https://localhost:8080/"
        },
        "id": "PQbzV2zFicQg",
        "outputId": "7d1d315a-b0e5-44c6-8ee7-849534144796"
      },
      "outputs": [
        {
          "name": "stdout",
          "output_type": "stream",
          "text": [
            "<class 'pandas.core.frame.DataFrame'>\n",
            "RangeIndex: 962 entries, 0 to 961\n",
            "Data columns (total 2 columns):\n",
            " #   Column    Non-Null Count  Dtype \n",
            "---  ------    --------------  ----- \n",
            " 0   Category  962 non-null    object\n",
            " 1   Resume    962 non-null    object\n",
            "dtypes: object(2)\n",
            "memory usage: 15.2+ KB\n"
          ]
        }
      ],
      "source": [
        "df.info()"
      ]
    },
    {
      "cell_type": "code",
      "execution_count": 17,
      "metadata": {
        "colab": {
          "base_uri": "https://localhost:8080/"
        },
        "id": "DbW8Z-aRiuHe",
        "outputId": "fbff350b-b067-445e-ca5a-cbe14c5e3d80"
      },
      "outputs": [
        {
          "data": {
            "text/plain": [
              "Java Developer               84\n",
              "Testing                      70\n",
              "DevOps Engineer              55\n",
              "Python Developer             48\n",
              "Web Designing                45\n",
              "HR                           44\n",
              "Hadoop                       42\n",
              "Blockchain                   40\n",
              "ETL Developer                40\n",
              "Operations Manager           40\n",
              "Data Science                 40\n",
              "Sales                        40\n",
              "Mechanical Engineer          40\n",
              "Arts                         36\n",
              "Database                     33\n",
              "Electrical Engineering       30\n",
              "Health and fitness           30\n",
              "PMO                          30\n",
              "Business Analyst             28\n",
              "DotNet Developer             28\n",
              "Automation Testing           26\n",
              "Network Security Engineer    25\n",
              "SAP Developer                24\n",
              "Civil Engineer               24\n",
              "Advocate                     20\n",
              "Name: Category, dtype: int64"
            ]
          },
          "execution_count": 17,
          "metadata": {},
          "output_type": "execute_result"
        }
      ],
      "source": [
        "category_counts = df['Category'].value_counts()\n",
        "category_counts"
      ]
    },
    {
      "cell_type": "code",
      "execution_count": 18,
      "metadata": {
        "colab": {
          "base_uri": "https://localhost:8080/",
          "height": 736
        },
        "id": "8HIsiYQujhsN",
        "outputId": "451af967-ade7-4b9a-fd98-f4b5dd786a11"
      },
      "outputs": [
        {
          "data": {
            "image/png": "[encoded data removed]",
            "text/plain": [
              "<Figure size 1000x600 with 1 Axes>"
            ]
          },
          "metadata": {},
          "output_type": "display_data"
        }
      ],
      "source": [
        "plt.figure(figsize=(10, 6))\n",
        "ax = category_counts.plot(kind='bar', color='pink')\n",
        "plt.title('Category Distribution')\n",
        "plt.xlabel('Category')\n",
        "plt.ylabel('Count')\n",
        "plt.xticks(rotation=90)\n",
        "for i, count in enumerate(category_counts):\n",
        "    ax.text(i, count, str(count), ha='center', va='bottom')\n",
        "plt.show()"
      ]
    },
    {
      "cell_type": "markdown",
      "metadata": {
        "id": "04Ewb1pck9qg"
      },
      "source": [
        "*   Most of the candidates are Java Developers, followed by testing and Devops engineers.\n",
        "*   Data Science is in 11/25 place with only 40 records."
      ]
    },
    {
      "cell_type": "markdown",
      "metadata": {
        "id": "uxbMApt4nWI0"
      },
      "source": [
        "Now let's merge category and resume columns to pre-process them"
      ]
    },
    {
      "cell_type": "code",
      "execution_count": 19,
      "metadata": {
        "id": "JlCD8KftkT5W"
      },
      "outputs": [],
      "source": [
        "df['Cat_Resume'] = df['Category']+' '+df['Resume']"
      ]
    },
    {
      "cell_type": "code",
      "execution_count": 20,
      "metadata": {
        "colab": {
          "base_uri": "https://localhost:8080/",
          "height": 80
        },
        "id": "_JaL4kqknjNh",
        "outputId": "8a232860-eb94-4166-b551-9ebc6a1c29f3"
      },
      "outputs": [
        {
          "data": {
            "text/html": [
              "<div>\n",
              "<style scoped>\n",
              "    .dataframe tbody tr th:only-of-type {\n",
              "        vertical-align: middle;\n",
              "    }\n",
              "\n",
              "    .dataframe tbody tr th {\n",
              "        vertical-align: top;\n",
              "    }\n",
              "\n",
              "    .dataframe thead th {\n",
              "        text-align: right;\n",
              "    }\n",
              "</style>\n",
              "<table border=\"1\" class=\"dataframe\">\n",
              "  <thead>\n",
              "    <tr style=\"text-align: right;\">\n",
              "      <th></th>\n",
              "      <th>Category</th>\n",
              "      <th>Resume</th>\n",
              "      <th>Cat_Resume</th>\n",
              "    </tr>\n",
              "  </thead>\n",
              "  <tbody>\n",
              "    <tr>\n",
              "      <th>0</th>\n",
              "      <td>Data Science</td>\n",
              "      <td>Skills * Programming Languages: Python (pandas...</td>\n",
              "      <td>Data Science Skills * Programming Languages: P...</td>\n",
              "    </tr>\n",
              "  </tbody>\n",
              "</table>\n",
              "</div>"
            ],
            "text/plain": [
              "       Category                                             Resume  \\\n",
              "0  Data Science  Skills * Programming Languages: Python (pandas...   \n",
              "\n",
              "                                          Cat_Resume  \n",
              "0  Data Science Skills * Programming Languages: P...  "
            ]
          },
          "execution_count": 20,
          "metadata": {},
          "output_type": "execute_result"
        }
      ],
      "source": [
        "df.head(1)"
      ]
    },
    {
      "cell_type": "code",
      "execution_count": 21,
      "metadata": {
        "id": "2-Yj29e7nmN5"
      },
      "outputs": [],
      "source": [
        "def remove_punctuation(text):\n",
        "  no_punctuation = ''.join([c for c in text if c not in string.punctuation])\n",
        "  return no_punctuation\n",
        "df['no_punctuation']=df['Cat_Resume'].apply(lambda x:remove_punctuation (x))\n",
        "#df.to_csv('after_remove_punc.csv',index=False)"
      ]
    },
    {
      "cell_type": "code",
      "execution_count": 22,
      "metadata": {
        "id": "kZuTDTlpogV9"
      },
      "outputs": [],
      "source": [
        "def tokenize(text):\n",
        "  tokens =re.split('\\W+',text)\n",
        "  return tokens\n",
        "df['after_tokenization'] = df['Cat_Resume'].apply(lambda x:tokenize(x))\n",
        "#df.to_csv('after_tokenization.csv',index=False)"
      ]
    },
    {
      "cell_type": "markdown",
      "metadata": {},
      "source": [
        "Pos Tagging: part-of-speech tags that provide information about the grammatical roles of words in the text."
      ]
    },
    {
      "cell_type": "code",
      "execution_count": 24,
      "metadata": {
        "id": "41MPK4GBpHUO"
      },
      "outputs": [],
      "source": [
        "def pos_tag(text):\n",
        "  pos_text=nltk.pos_tag(text)\n",
        "  return pos_text\n",
        "df['after_pos_tagging']=df['after_tokenization'].apply(lambda x:pos_tag(x))\n",
        "#df.to_csv('after_pos_tagging.csv',index=False)"
      ]
    },
    {
      "cell_type": "markdown",
      "metadata": {},
      "source": [
        "Remove stop words"
      ]
    },
    {
      "cell_type": "code",
      "execution_count": 26,
      "metadata": {},
      "outputs": [],
      "source": [
        "stop_words=set(stopwords.words('english'))\n",
        "def remove_stopword(text):\n",
        "  text_sw=[word for word in text if word not in stop_words]\n",
        "  return text_sw\n",
        "df['remove_sw']=df['after_tokenization'].apply(lambda x:remove_stopword(x))\n",
        "#df.to_csv('after_re_sw.csv',index=False)"
      ]
    },
    {
      "cell_type": "markdown",
      "metadata": {},
      "source": [
        "Lemmatization"
      ]
    },
    {
      "cell_type": "code",
      "execution_count": 27,
      "metadata": {},
      "outputs": [],
      "source": [
        "ln=nltk.WordNetLemmatizer()\n",
        "def lemm(text):\n",
        "  z=[ln.lemmatize(word) for word in text]\n",
        "  return z\n",
        "df['after_lemmatization']=df['remove_sw'].apply(lambda x:lemm(x))\n",
        "#df.to_csv('after_lemmatization.csv',index=False)"
      ]
    },
    {
      "cell_type": "markdown",
      "metadata": {},
      "source": [
        " Noun phrases: Identify and extract sequences of words that function as nouns within a text."
      ]
    },
    {
      "cell_type": "code",
      "execution_count": 29,
      "metadata": {},
      "outputs": [
        {
          "data": {
            "text/plain": [
              "0    [Data Science Skills Programming Languages Pyt...\n",
              "1    [Data Science Education Details May 2013 May 2...\n",
              "2    [Data Science Areas Interest Deep Learning Con...\n",
              "3    [Data Science Skills â R â Python, SAP, HANA, ...\n",
              "4    [Data Science Education Details MCA YMCAUST Fa...\n",
              "Name: noun_phrases, dtype: object"
            ]
          },
          "execution_count": 29,
          "metadata": {},
          "output_type": "execute_result"
        }
      ],
      "source": [
        "def noun_phrases(text):\n",
        "  x=' '.join([n for n in text])\n",
        "  doc=nlp(x)\n",
        "  return [chunk.text for chunk in doc.noun_chunks]\n",
        "df['noun_phrases']=df['after_lemmatization'].apply(lambda x:noun_phrases(x))\n",
        "df['noun_phrases'].head()"
      ]
    },
    {
      "cell_type": "code",
      "execution_count": 30,
      "metadata": {},
      "outputs": [
        {
          "data": {
            "text/plain": [
              "0    [panda, scikit, technique, processing, dimensi...\n",
              "1    [b, e, year, month, month, aw, year, month, ye...\n",
              "2    [week, guidance, hangar, fighter, aircraft, py...\n",
              "3    [month, month, month, month, year, month, year...\n",
              "4    [internship, year, month, year, month, year, m...\n",
              "Name: noun_forms, dtype: object"
            ]
          },
          "execution_count": 30,
          "metadata": {},
          "output_type": "execute_result"
        }
      ],
      "source": [
        "def noun_forms(text):\n",
        "    x = ' '.join([y for y in text])\n",
        "    doc = nlp(x)\n",
        "    return [token.lemma_ for token in doc if token.pos_ == \"NOUN\"]\n",
        "\n",
        "df['noun_forms'] = df['after_lemmatization'].apply(lambda x: noun_forms(x))\n",
        "df['noun_forms'].head()"
      ]
    },
    {
      "cell_type": "markdown",
      "metadata": {},
      "source": [
        " Verb phrases: Identify and extract sequences of words that function as nouns within a text."
      ]
    },
    {
      "cell_type": "code",
      "execution_count": 31,
      "metadata": {},
      "outputs": [
        {
          "data": {
            "text/plain": [
              "0      [learn, learn, boost, embed, model, understand...\n",
              "1      [learn, sagar, deploy, learn, miss, encode, sc...\n",
              "2      [ltspice, ENTHUSIAST, excel, mathematic, work,...\n",
              "3      [learn, involve, analyse, come, give, carry, p...\n",
              "4                                                     []\n",
              "                             ...                        \n",
              "957    [test, work, motivate, check, follow, conduct,...\n",
              "958    [accept, declare, mention, bear, mention, perf...\n",
              "959    [learn, conduct, prepare, inverter, set, cause...\n",
              "960                             [wind, use, use, design]\n",
              "961    [test, report, handle, test, execute, coordina...\n",
              "Name: verb_forms, Length: 962, dtype: object"
            ]
          },
          "execution_count": 31,
          "metadata": {},
          "output_type": "execute_result"
        }
      ],
      "source": [
        "def verb_forms(text):\n",
        "  x=' '.join([y for y in text])\n",
        "  doc=nlp(x)\n",
        "  return [token.lemma_ for token in doc if token.pos_ == \"VERB\"]\n",
        "df['verb_forms']=df['after_lemmatization'].apply(lambda x:verb_forms(x))\n",
        "df['verb_forms']"
      ]
    },
    {
      "cell_type": "markdown",
      "metadata": {},
      "source": [
        "Extract Named entities : specific, identifiable entities within text, such as names of people, companies, locations, and more."
      ]
    },
    {
      "cell_type": "code",
      "execution_count": 32,
      "metadata": {},
      "outputs": [
        {
          "data": {
            "text/plain": [
              "0    [Sql Java JavaScript JQuery Machine, Cassandra...\n",
              "1    [Data Science Education, May 2013, May 2017, M...\n",
              "2    [Data Science Areas Interest Deep Learning Con...\n",
              "3    [Tableau, SAP HANA, SAP HANA PAL, SAP Lumira, ...\n",
              "4    [Data Science Education Details, Haryana Data ...\n",
              "Name: named_entities, dtype: object"
            ]
          },
          "execution_count": 32,
          "metadata": {},
          "output_type": "execute_result"
        }
      ],
      "source": [
        "def named_entities(text):\n",
        "  x=' '.join([y for y in text])\n",
        "  doc=nlp(x)\n",
        "  return [entity.text for entity in doc.ents]\n",
        "df['named_entities']=df['after_lemmatization'].apply(lambda x:named_entities(x))\n",
        "df['named_entities'].head()"
      ]
    },
    {
      "cell_type": "markdown",
      "metadata": {},
      "source": [
        "Merge noun phrases,verb forms,named entities as a single column to find the matched words & phrases"
      ]
    },
    {
      "cell_type": "code",
      "execution_count": 33,
      "metadata": {},
      "outputs": [
        {
          "data": {
            "text/plain": [
              "0      {system, social, products, open, others, serie...\n",
              "1      {linkedin, series, rathore, achievements, pape...\n",
              "2      {system, q, fighter, segment, technical, jupyt...\n",
              "3      {deloitte, system, view, products, usi, requir...\n",
              "4      {education, haryana, itechpower, year, core, m...\n",
              "                             ...                        \n",
              "957    {insulation, 400076, singh, word, cable, find,...\n",
              "958    {system, resolve, correctness, enhance, techni...\n",
              "959    {representative, concern, rakesh, measure, dai...\n",
              "960    {testing, water, system, education, maharashtr...\n",
              "961    {system, vista, mobile, order, bramha, hospita...\n",
              "Name: total_words, Length: 962, dtype: object"
            ]
          },
          "execution_count": 33,
          "metadata": {},
          "output_type": "execute_result"
        }
      ],
      "source": [
        "def string(text):\n",
        "  return set(' '.join([char for char in text]).lower().split(' '))\n",
        "df['total_words']=(df['noun_phrases']+df['verb_forms']+df['named_entities']).apply(lambda x:string(x))\n",
        "df['total_words'].head()"
      ]
    },
    {
      "cell_type": "markdown",
      "metadata": {},
      "source": [
        "Create the no of skills matching column in each resume"
      ]
    },
    {
      "cell_type": "code",
      "execution_count": 34,
      "metadata": {},
      "outputs": [
        {
          "data": {
            "text/html": [
              "<div>\n",
              "<style scoped>\n",
              "    .dataframe tbody tr th:only-of-type {\n",
              "        vertical-align: middle;\n",
              "    }\n",
              "\n",
              "    .dataframe tbody tr th {\n",
              "        vertical-align: top;\n",
              "    }\n",
              "\n",
              "    .dataframe thead th {\n",
              "        text-align: right;\n",
              "    }\n",
              "</style>\n",
              "<table border=\"1\" class=\"dataframe\">\n",
              "  <thead>\n",
              "    <tr style=\"text-align: right;\">\n",
              "      <th></th>\n",
              "      <th>Category</th>\n",
              "      <th>Resume</th>\n",
              "      <th>Cat_Resume</th>\n",
              "      <th>no_punctuation</th>\n",
              "      <th>after_tokenization</th>\n",
              "      <th>after_pos_tagging</th>\n",
              "      <th>remove_sw</th>\n",
              "      <th>after_lemmatization</th>\n",
              "      <th>noun_phrases</th>\n",
              "      <th>noun_forms</th>\n",
              "      <th>verb_forms</th>\n",
              "      <th>named_entities</th>\n",
              "      <th>total_words</th>\n",
              "      <th>skills_matched</th>\n",
              "    </tr>\n",
              "  </thead>\n",
              "  <tbody>\n",
              "    <tr>\n",
              "      <th>0</th>\n",
              "      <td>Data Science</td>\n",
              "      <td>Skills * Programming Languages: Python (pandas...</td>\n",
              "      <td>Data Science Skills * Programming Languages: P...</td>\n",
              "      <td>Data Science Skills  Programming Languages Pyt...</td>\n",
              "      <td>[Data, Science, Skills, Programming, Languages...</td>\n",
              "      <td>[(Data, NNP), (Science, NNP), (Skills, NNP), (...</td>\n",
              "      <td>[Data, Science, Skills, Programming, Languages...</td>\n",
              "      <td>[Data, Science, Skills, Programming, Languages...</td>\n",
              "      <td>[Data Science Skills Programming Languages Pyt...</td>\n",
              "      <td>[panda, scikit, technique, processing, dimensi...</td>\n",
              "      <td>[learn, learn, boost, embed, model, understand...</td>\n",
              "      <td>[Sql Java JavaScript JQuery Machine, Cassandra...</td>\n",
              "      <td>{system, social, products, open, others, serie...</td>\n",
              "      <td>48</td>\n",
              "    </tr>\n",
              "    <tr>\n",
              "      <th>1</th>\n",
              "      <td>Data Science</td>\n",
              "      <td>Education Details \\r\\nMay 2013 to May 2017 B.E...</td>\n",
              "      <td>Data Science Education Details \\r\\nMay 2013 to...</td>\n",
              "      <td>Data Science Education Details \\r\\nMay 2013 to...</td>\n",
              "      <td>[Data, Science, Education, Details, May, 2013,...</td>\n",
              "      <td>[(Data, NNP), (Science, NNP), (Education, NNP)...</td>\n",
              "      <td>[Data, Science, Education, Details, May, 2013,...</td>\n",
              "      <td>[Data, Science, Education, Details, May, 2013,...</td>\n",
              "      <td>[Data Science Education Details May 2013 May 2...</td>\n",
              "      <td>[b, e, year, month, month, aw, year, month, ye...</td>\n",
              "      <td>[learn, sagar, deploy, learn, miss, encode, sc...</td>\n",
              "      <td>[Data Science Education, May 2013, May 2017, M...</td>\n",
              "      <td>{linkedin, series, rathore, achievements, pape...</td>\n",
              "      <td>13</td>\n",
              "    </tr>\n",
              "    <tr>\n",
              "      <th>2</th>\n",
              "      <td>Data Science</td>\n",
              "      <td>Areas of Interest Deep Learning, Control Syste...</td>\n",
              "      <td>Data Science Areas of Interest Deep Learning, ...</td>\n",
              "      <td>Data Science Areas of Interest Deep Learning C...</td>\n",
              "      <td>[Data, Science, Areas, of, Interest, Deep, Lea...</td>\n",
              "      <td>[(Data, NNP), (Science, NNP), (Areas, NNP), (o...</td>\n",
              "      <td>[Data, Science, Areas, Interest, Deep, Learnin...</td>\n",
              "      <td>[Data, Science, Areas, Interest, Deep, Learnin...</td>\n",
              "      <td>[Data Science Areas Interest Deep Learning Con...</td>\n",
              "      <td>[week, guidance, hangar, fighter, aircraft, py...</td>\n",
              "      <td>[ltspice, ENTHUSIAST, excel, mathematic, work,...</td>\n",
              "      <td>[Data Science Areas Interest Deep Learning Con...</td>\n",
              "      <td>{system, q, fighter, segment, technical, jupyt...</td>\n",
              "      <td>20</td>\n",
              "    </tr>\n",
              "    <tr>\n",
              "      <th>3</th>\n",
              "      <td>Data Science</td>\n",
              "      <td>Skills â¢ R â¢ Python â¢ SAP HANA â¢ Table...</td>\n",
              "      <td>Data Science Skills â¢ R â¢ Python â¢ SAP H...</td>\n",
              "      <td>Data Science Skills â¢ R â¢ Python â¢ SAP H...</td>\n",
              "      <td>[Data, Science, Skills, â, R, â, Python, â, SA...</td>\n",
              "      <td>[(Data, NNP), (Science, NNP), (Skills, NNP), (...</td>\n",
              "      <td>[Data, Science, Skills, â, R, â, Python, â, SA...</td>\n",
              "      <td>[Data, Science, Skills, â, R, â, Python, â, SA...</td>\n",
              "      <td>[Data Science Skills â R â Python, SAP, HANA, ...</td>\n",
              "      <td>[month, month, month, month, year, month, year...</td>\n",
              "      <td>[learn, involve, analyse, come, give, carry, p...</td>\n",
              "      <td>[Tableau, SAP HANA, SAP HANA PAL, SAP Lumira, ...</td>\n",
              "      <td>{deloitte, system, view, products, usi, requir...</td>\n",
              "      <td>48</td>\n",
              "    </tr>\n",
              "    <tr>\n",
              "      <th>4</th>\n",
              "      <td>Data Science</td>\n",
              "      <td>Education Details \\r\\n MCA   YMCAUST,  Faridab...</td>\n",
              "      <td>Data Science Education Details \\r\\n MCA   YMCA...</td>\n",
              "      <td>Data Science Education Details \\r\\n MCA   YMCA...</td>\n",
              "      <td>[Data, Science, Education, Details, MCA, YMCAU...</td>\n",
              "      <td>[(Data, NNP), (Science, NNP), (Education, NNP)...</td>\n",
              "      <td>[Data, Science, Education, Details, MCA, YMCAU...</td>\n",
              "      <td>[Data, Science, Education, Details, MCA, YMCAU...</td>\n",
              "      <td>[Data Science Education Details MCA YMCAUST Fa...</td>\n",
              "      <td>[internship, year, month, year, month, year, m...</td>\n",
              "      <td>[]</td>\n",
              "      <td>[Data Science Education Details, Haryana Data ...</td>\n",
              "      <td>{education, haryana, itechpower, year, core, m...</td>\n",
              "      <td>11</td>\n",
              "    </tr>\n",
              "    <tr>\n",
              "      <th>...</th>\n",
              "      <td>...</td>\n",
              "      <td>...</td>\n",
              "      <td>...</td>\n",
              "      <td>...</td>\n",
              "      <td>...</td>\n",
              "      <td>...</td>\n",
              "      <td>...</td>\n",
              "      <td>...</td>\n",
              "      <td>...</td>\n",
              "      <td>...</td>\n",
              "      <td>...</td>\n",
              "      <td>...</td>\n",
              "      <td>...</td>\n",
              "      <td>...</td>\n",
              "    </tr>\n",
              "    <tr>\n",
              "      <th>957</th>\n",
              "      <td>Testing</td>\n",
              "      <td>Computer Skills: â¢ Proficient in MS office (...</td>\n",
              "      <td>Testing Computer Skills: â¢ Proficient in MS ...</td>\n",
              "      <td>Testing Computer Skills â¢ Proficient in MS o...</td>\n",
              "      <td>[Testing, Computer, Skills, â, Proficient, in,...</td>\n",
              "      <td>[(Testing, VBG), (Computer, NNP), (Skills, NNP...</td>\n",
              "      <td>[Testing, Computer, Skills, â, Proficient, MS,...</td>\n",
              "      <td>[Testing, Computer, Skills, â, Proficient, MS,...</td>\n",
              "      <td>[Computer Skills â Proficient MS office, Word ...</td>\n",
              "      <td>[office, point, people, management, skill, att...</td>\n",
              "      <td>[test, work, motivate, check, follow, conduct,...</td>\n",
              "      <td>[Word Basic Excel Power point, Bachelor Electr...</td>\n",
              "      <td>{insulation, 400076, singh, word, cable, find,...</td>\n",
              "      <td>12</td>\n",
              "    </tr>\n",
              "    <tr>\n",
              "      <th>958</th>\n",
              "      <td>Testing</td>\n",
              "      <td>â Willingness to accept the challenges. â ...</td>\n",
              "      <td>Testing â Willingness to accept the challeng...</td>\n",
              "      <td>Testing â Willingness to accept the challeng...</td>\n",
              "      <td>[Testing, â, Willingness, to, accept, the, cha...</td>\n",
              "      <td>[(Testing, VBG), (â, JJ), (Willingness, NNP), ...</td>\n",
              "      <td>[Testing, â, Willingness, accept, challenges, ...</td>\n",
              "      <td>[Testing, â, Willingness, accept, challenge, â...</td>\n",
              "      <td>[Testing â Willingness, challenge, Positive th...</td>\n",
              "      <td>[testing, challenge, thinking, learner, inform...</td>\n",
              "      <td>[accept, declare, mention, bear, mention, perf...</td>\n",
              "      <td>[Team Player, June 2015, June 2012, Abacus Ele...</td>\n",
              "      <td>{system, resolve, correctness, enhance, techni...</td>\n",
              "      <td>20</td>\n",
              "    </tr>\n",
              "    <tr>\n",
              "      <th>959</th>\n",
              "      <td>Testing</td>\n",
              "      <td>PERSONAL SKILLS â¢ Quick learner, â¢ Eagerne...</td>\n",
              "      <td>Testing PERSONAL SKILLS â¢ Quick learner, â¢...</td>\n",
              "      <td>Testing PERSONAL SKILLS â¢ Quick learner â¢ ...</td>\n",
              "      <td>[Testing, PERSONAL, SKILLS, â, Quick, learner,...</td>\n",
              "      <td>[(Testing, VBG), (PERSONAL, NNP), (SKILLS, NNP...</td>\n",
              "      <td>[Testing, PERSONAL, SKILLS, â, Quick, learner,...</td>\n",
              "      <td>[Testing, PERSONAL, SKILLS, â, Quick, learner,...</td>\n",
              "      <td>[Testing PERSONAL SKILLS â Quick learner â Eag...</td>\n",
              "      <td>[testing, learner, thing, attitude, leadership...</td>\n",
              "      <td>[learn, conduct, prepare, inverter, set, cause...</td>\n",
              "      <td>[Eagerness, Competitive, January 2012, January...</td>\n",
              "      <td>{representative, concern, rakesh, measure, dai...</td>\n",
              "      <td>11</td>\n",
              "    </tr>\n",
              "    <tr>\n",
              "      <th>960</th>\n",
              "      <td>Testing</td>\n",
              "      <td>COMPUTER SKILLS &amp; SOFTWARE KNOWLEDGE MS-Power ...</td>\n",
              "      <td>Testing COMPUTER SKILLS &amp; SOFTWARE KNOWLEDGE M...</td>\n",
              "      <td>Testing COMPUTER SKILLS  SOFTWARE KNOWLEDGE MS...</td>\n",
              "      <td>[Testing, COMPUTER, SKILLS, SOFTWARE, KNOWLEDG...</td>\n",
              "      <td>[(Testing, VBG), (COMPUTER, NNP), (SKILLS, NNP...</td>\n",
              "      <td>[Testing, COMPUTER, SKILLS, SOFTWARE, KNOWLEDG...</td>\n",
              "      <td>[Testing, COMPUTER, SKILLS, SOFTWARE, KNOWLEDG...</td>\n",
              "      <td>[Testing COMPUTER SKILLS SOFTWARE, KNOWLEDGE M...</td>\n",
              "      <td>[testing, computer, be, system, be, month, pcb...</td>\n",
              "      <td>[wind, use, use, design]</td>\n",
              "      <td>[MS Power Point MS Office C Protius PCB Design...</td>\n",
              "      <td>{testing, water, system, education, maharashtr...</td>\n",
              "      <td>10</td>\n",
              "    </tr>\n",
              "    <tr>\n",
              "      <th>961</th>\n",
              "      <td>Testing</td>\n",
              "      <td>Skill Set OS Windows XP/7/8/8.1/10 Database MY...</td>\n",
              "      <td>Testing Skill Set OS Windows XP/7/8/8.1/10 Dat...</td>\n",
              "      <td>Testing Skill Set OS Windows XP788110 Database...</td>\n",
              "      <td>[Testing, Skill, Set, OS, Windows, XP, 7, 8, 8...</td>\n",
              "      <td>[(Testing, VBG), (Skill, NNP), (Set, NNP), (OS...</td>\n",
              "      <td>[Testing, Skill, Set, OS, Windows, XP, 7, 8, 8...</td>\n",
              "      <td>[Testing, Skill, Set, OS, Windows, XP, 7, 8, 8...</td>\n",
              "      <td>[Testing Skill Set OS Windows XP, 2012 Languag...</td>\n",
              "      <td>[os, sql, server, language, css, bug, tracking...</td>\n",
              "      <td>[test, report, handle, test, execute, coordina...</td>\n",
              "      <td>[Skill Set OS, 2005 2008 2012, January 2016, J...</td>\n",
              "      <td>{system, vista, mobile, order, bramha, hospita...</td>\n",
              "      <td>6</td>\n",
              "    </tr>\n",
              "  </tbody>\n",
              "</table>\n",
              "<p>962 rows × 14 columns</p>\n",
              "</div>"
            ],
            "text/plain": [
              "         Category                                             Resume  \\\n",
              "0    Data Science  Skills * Programming Languages: Python (pandas...   \n",
              "1    Data Science  Education Details \\r\\nMay 2013 to May 2017 B.E...   \n",
              "2    Data Science  Areas of Interest Deep Learning, Control Syste...   \n",
              "3    Data Science  Skills â¢ R â¢ Python â¢ SAP HANA â¢ Table...   \n",
              "4    Data Science  Education Details \\r\\n MCA   YMCAUST,  Faridab...   \n",
              "..            ...                                                ...   \n",
              "957       Testing  Computer Skills: â¢ Proficient in MS office (...   \n",
              "958       Testing  â Willingness to accept the challenges. â ...   \n",
              "959       Testing  PERSONAL SKILLS â¢ Quick learner, â¢ Eagerne...   \n",
              "960       Testing  COMPUTER SKILLS & SOFTWARE KNOWLEDGE MS-Power ...   \n",
              "961       Testing  Skill Set OS Windows XP/7/8/8.1/10 Database MY...   \n",
              "\n",
              "                                            Cat_Resume  \\\n",
              "0    Data Science Skills * Programming Languages: P...   \n",
              "1    Data Science Education Details \\r\\nMay 2013 to...   \n",
              "2    Data Science Areas of Interest Deep Learning, ...   \n",
              "3    Data Science Skills â¢ R â¢ Python â¢ SAP H...   \n",
              "4    Data Science Education Details \\r\\n MCA   YMCA...   \n",
              "..                                                 ...   \n",
              "957  Testing Computer Skills: â¢ Proficient in MS ...   \n",
              "958  Testing â Willingness to accept the challeng...   \n",
              "959  Testing PERSONAL SKILLS â¢ Quick learner, â¢...   \n",
              "960  Testing COMPUTER SKILLS & SOFTWARE KNOWLEDGE M...   \n",
              "961  Testing Skill Set OS Windows XP/7/8/8.1/10 Dat...   \n",
              "\n",
              "                                        no_punctuation  \\\n",
              "0    Data Science Skills  Programming Languages Pyt...   \n",
              "1    Data Science Education Details \\r\\nMay 2013 to...   \n",
              "2    Data Science Areas of Interest Deep Learning C...   \n",
              "3    Data Science Skills â¢ R â¢ Python â¢ SAP H...   \n",
              "4    Data Science Education Details \\r\\n MCA   YMCA...   \n",
              "..                                                 ...   \n",
              "957  Testing Computer Skills â¢ Proficient in MS o...   \n",
              "958  Testing â Willingness to accept the challeng...   \n",
              "959  Testing PERSONAL SKILLS â¢ Quick learner â¢ ...   \n",
              "960  Testing COMPUTER SKILLS  SOFTWARE KNOWLEDGE MS...   \n",
              "961  Testing Skill Set OS Windows XP788110 Database...   \n",
              "\n",
              "                                    after_tokenization  \\\n",
              "0    [Data, Science, Skills, Programming, Languages...   \n",
              "1    [Data, Science, Education, Details, May, 2013,...   \n",
              "2    [Data, Science, Areas, of, Interest, Deep, Lea...   \n",
              "3    [Data, Science, Skills, â, R, â, Python, â, SA...   \n",
              "4    [Data, Science, Education, Details, MCA, YMCAU...   \n",
              "..                                                 ...   \n",
              "957  [Testing, Computer, Skills, â, Proficient, in,...   \n",
              "958  [Testing, â, Willingness, to, accept, the, cha...   \n",
              "959  [Testing, PERSONAL, SKILLS, â, Quick, learner,...   \n",
              "960  [Testing, COMPUTER, SKILLS, SOFTWARE, KNOWLEDG...   \n",
              "961  [Testing, Skill, Set, OS, Windows, XP, 7, 8, 8...   \n",
              "\n",
              "                                     after_pos_tagging  \\\n",
              "0    [(Data, NNP), (Science, NNP), (Skills, NNP), (...   \n",
              "1    [(Data, NNP), (Science, NNP), (Education, NNP)...   \n",
              "2    [(Data, NNP), (Science, NNP), (Areas, NNP), (o...   \n",
              "3    [(Data, NNP), (Science, NNP), (Skills, NNP), (...   \n",
              "4    [(Data, NNP), (Science, NNP), (Education, NNP)...   \n",
              "..                                                 ...   \n",
              "957  [(Testing, VBG), (Computer, NNP), (Skills, NNP...   \n",
              "958  [(Testing, VBG), (â, JJ), (Willingness, NNP), ...   \n",
              "959  [(Testing, VBG), (PERSONAL, NNP), (SKILLS, NNP...   \n",
              "960  [(Testing, VBG), (COMPUTER, NNP), (SKILLS, NNP...   \n",
              "961  [(Testing, VBG), (Skill, NNP), (Set, NNP), (OS...   \n",
              "\n",
              "                                             remove_sw  \\\n",
              "0    [Data, Science, Skills, Programming, Languages...   \n",
              "1    [Data, Science, Education, Details, May, 2013,...   \n",
              "2    [Data, Science, Areas, Interest, Deep, Learnin...   \n",
              "3    [Data, Science, Skills, â, R, â, Python, â, SA...   \n",
              "4    [Data, Science, Education, Details, MCA, YMCAU...   \n",
              "..                                                 ...   \n",
              "957  [Testing, Computer, Skills, â, Proficient, MS,...   \n",
              "958  [Testing, â, Willingness, accept, challenges, ...   \n",
              "959  [Testing, PERSONAL, SKILLS, â, Quick, learner,...   \n",
              "960  [Testing, COMPUTER, SKILLS, SOFTWARE, KNOWLEDG...   \n",
              "961  [Testing, Skill, Set, OS, Windows, XP, 7, 8, 8...   \n",
              "\n",
              "                                   after_lemmatization  \\\n",
              "0    [Data, Science, Skills, Programming, Languages...   \n",
              "1    [Data, Science, Education, Details, May, 2013,...   \n",
              "2    [Data, Science, Areas, Interest, Deep, Learnin...   \n",
              "3    [Data, Science, Skills, â, R, â, Python, â, SA...   \n",
              "4    [Data, Science, Education, Details, MCA, YMCAU...   \n",
              "..                                                 ...   \n",
              "957  [Testing, Computer, Skills, â, Proficient, MS,...   \n",
              "958  [Testing, â, Willingness, accept, challenge, â...   \n",
              "959  [Testing, PERSONAL, SKILLS, â, Quick, learner,...   \n",
              "960  [Testing, COMPUTER, SKILLS, SOFTWARE, KNOWLEDG...   \n",
              "961  [Testing, Skill, Set, OS, Windows, XP, 7, 8, 8...   \n",
              "\n",
              "                                          noun_phrases  \\\n",
              "0    [Data Science Skills Programming Languages Pyt...   \n",
              "1    [Data Science Education Details May 2013 May 2...   \n",
              "2    [Data Science Areas Interest Deep Learning Con...   \n",
              "3    [Data Science Skills â R â Python, SAP, HANA, ...   \n",
              "4    [Data Science Education Details MCA YMCAUST Fa...   \n",
              "..                                                 ...   \n",
              "957  [Computer Skills â Proficient MS office, Word ...   \n",
              "958  [Testing â Willingness, challenge, Positive th...   \n",
              "959  [Testing PERSONAL SKILLS â Quick learner â Eag...   \n",
              "960  [Testing COMPUTER SKILLS SOFTWARE, KNOWLEDGE M...   \n",
              "961  [Testing Skill Set OS Windows XP, 2012 Languag...   \n",
              "\n",
              "                                            noun_forms  \\\n",
              "0    [panda, scikit, technique, processing, dimensi...   \n",
              "1    [b, e, year, month, month, aw, year, month, ye...   \n",
              "2    [week, guidance, hangar, fighter, aircraft, py...   \n",
              "3    [month, month, month, month, year, month, year...   \n",
              "4    [internship, year, month, year, month, year, m...   \n",
              "..                                                 ...   \n",
              "957  [office, point, people, management, skill, att...   \n",
              "958  [testing, challenge, thinking, learner, inform...   \n",
              "959  [testing, learner, thing, attitude, leadership...   \n",
              "960  [testing, computer, be, system, be, month, pcb...   \n",
              "961  [os, sql, server, language, css, bug, tracking...   \n",
              "\n",
              "                                            verb_forms  \\\n",
              "0    [learn, learn, boost, embed, model, understand...   \n",
              "1    [learn, sagar, deploy, learn, miss, encode, sc...   \n",
              "2    [ltspice, ENTHUSIAST, excel, mathematic, work,...   \n",
              "3    [learn, involve, analyse, come, give, carry, p...   \n",
              "4                                                   []   \n",
              "..                                                 ...   \n",
              "957  [test, work, motivate, check, follow, conduct,...   \n",
              "958  [accept, declare, mention, bear, mention, perf...   \n",
              "959  [learn, conduct, prepare, inverter, set, cause...   \n",
              "960                           [wind, use, use, design]   \n",
              "961  [test, report, handle, test, execute, coordina...   \n",
              "\n",
              "                                        named_entities  \\\n",
              "0    [Sql Java JavaScript JQuery Machine, Cassandra...   \n",
              "1    [Data Science Education, May 2013, May 2017, M...   \n",
              "2    [Data Science Areas Interest Deep Learning Con...   \n",
              "3    [Tableau, SAP HANA, SAP HANA PAL, SAP Lumira, ...   \n",
              "4    [Data Science Education Details, Haryana Data ...   \n",
              "..                                                 ...   \n",
              "957  [Word Basic Excel Power point, Bachelor Electr...   \n",
              "958  [Team Player, June 2015, June 2012, Abacus Ele...   \n",
              "959  [Eagerness, Competitive, January 2012, January...   \n",
              "960  [MS Power Point MS Office C Protius PCB Design...   \n",
              "961  [Skill Set OS, 2005 2008 2012, January 2016, J...   \n",
              "\n",
              "                                           total_words  skills_matched  \n",
              "0    {system, social, products, open, others, serie...              48  \n",
              "1    {linkedin, series, rathore, achievements, pape...              13  \n",
              "2    {system, q, fighter, segment, technical, jupyt...              20  \n",
              "3    {deloitte, system, view, products, usi, requir...              48  \n",
              "4    {education, haryana, itechpower, year, core, m...              11  \n",
              "..                                                 ...             ...  \n",
              "957  {insulation, 400076, singh, word, cable, find,...              12  \n",
              "958  {system, resolve, correctness, enhance, techni...              20  \n",
              "959  {representative, concern, rakesh, measure, dai...              11  \n",
              "960  {testing, water, system, education, maharashtr...              10  \n",
              "961  {system, vista, mobile, order, bramha, hospita...               6  \n",
              "\n",
              "[962 rows x 14 columns]"
            ]
          },
          "execution_count": 34,
          "metadata": {},
          "output_type": "execute_result"
        }
      ],
      "source": [
        "def ct(text):\n",
        "  count=0\n",
        "  for i in text:\n",
        "    if i in skills_list:\n",
        "      count+=1\n",
        "  return count\n",
        "\n",
        "df['skills_matched']=df['total_words'].apply(lambda x:ct(x))\n",
        "df"
      ]
    },
    {
      "cell_type": "markdown",
      "metadata": {},
      "source": [
        "Displaying the top-10 resumes which matched more number of skills"
      ]
    },
    {
      "cell_type": "code",
      "execution_count": 35,
      "metadata": {},
      "outputs": [
        {
          "data": {
            "text/html": [
              "<div>\n",
              "<style scoped>\n",
              "    .dataframe tbody tr th:only-of-type {\n",
              "        vertical-align: middle;\n",
              "    }\n",
              "\n",
              "    .dataframe tbody tr th {\n",
              "        vertical-align: top;\n",
              "    }\n",
              "\n",
              "    .dataframe thead th {\n",
              "        text-align: right;\n",
              "    }\n",
              "</style>\n",
              "<table border=\"1\" class=\"dataframe\">\n",
              "  <thead>\n",
              "    <tr style=\"text-align: right;\">\n",
              "      <th></th>\n",
              "      <th>Category</th>\n",
              "      <th>Resume</th>\n",
              "      <th>skills_matched</th>\n",
              "    </tr>\n",
              "  </thead>\n",
              "  <tbody>\n",
              "    <tr>\n",
              "      <th>37</th>\n",
              "      <td>Data Science</td>\n",
              "      <td>Education Details \\r\\n B.Tech   Rayat and Bahr...</td>\n",
              "      <td>49</td>\n",
              "    </tr>\n",
              "    <tr>\n",
              "      <th>17</th>\n",
              "      <td>Data Science</td>\n",
              "      <td>Education Details \\r\\n B.Tech   Rayat and Bahr...</td>\n",
              "      <td>49</td>\n",
              "    </tr>\n",
              "    <tr>\n",
              "      <th>7</th>\n",
              "      <td>Data Science</td>\n",
              "      <td>Education Details \\r\\n B.Tech   Rayat and Bahr...</td>\n",
              "      <td>49</td>\n",
              "    </tr>\n",
              "    <tr>\n",
              "      <th>27</th>\n",
              "      <td>Data Science</td>\n",
              "      <td>Education Details \\r\\n B.Tech   Rayat and Bahr...</td>\n",
              "      <td>49</td>\n",
              "    </tr>\n",
              "    <tr>\n",
              "      <th>0</th>\n",
              "      <td>Data Science</td>\n",
              "      <td>Skills * Programming Languages: Python (pandas...</td>\n",
              "      <td>48</td>\n",
              "    </tr>\n",
              "  </tbody>\n",
              "</table>\n",
              "</div>"
            ],
            "text/plain": [
              "        Category                                             Resume  \\\n",
              "37  Data Science  Education Details \\r\\n B.Tech   Rayat and Bahr...   \n",
              "17  Data Science  Education Details \\r\\n B.Tech   Rayat and Bahr...   \n",
              "7   Data Science  Education Details \\r\\n B.Tech   Rayat and Bahr...   \n",
              "27  Data Science  Education Details \\r\\n B.Tech   Rayat and Bahr...   \n",
              "0   Data Science  Skills * Programming Languages: Python (pandas...   \n",
              "\n",
              "    skills_matched  \n",
              "37              49  \n",
              "17              49  \n",
              "7               49  \n",
              "27              49  \n",
              "0               48  "
            ]
          },
          "execution_count": 35,
          "metadata": {},
          "output_type": "execute_result"
        }
      ],
      "source": [
        "df.sort_values(by='skills_matched',inplace=True,ascending=False)\n",
        "df[['Category','Resume','skills_matched']].head()"
      ]
    },
    {
      "cell_type": "markdown",
      "metadata": {},
      "source": [
        "More than 40 skills matched"
      ]
    },
    {
      "cell_type": "code",
      "execution_count": 37,
      "metadata": {},
      "outputs": [
        {
          "data": {
            "text/html": [
              "<div>\n",
              "<style scoped>\n",
              "    .dataframe tbody tr th:only-of-type {\n",
              "        vertical-align: middle;\n",
              "    }\n",
              "\n",
              "    .dataframe tbody tr th {\n",
              "        vertical-align: top;\n",
              "    }\n",
              "\n",
              "    .dataframe thead th {\n",
              "        text-align: right;\n",
              "    }\n",
              "</style>\n",
              "<table border=\"1\" class=\"dataframe\">\n",
              "  <thead>\n",
              "    <tr style=\"text-align: right;\">\n",
              "      <th></th>\n",
              "      <th>Category</th>\n",
              "      <th>Resume</th>\n",
              "      <th>skills_matched</th>\n",
              "    </tr>\n",
              "  </thead>\n",
              "  <tbody>\n",
              "    <tr>\n",
              "      <th>37</th>\n",
              "      <td>Data Science</td>\n",
              "      <td>Education Details \\r\\n B.Tech   Rayat and Bahr...</td>\n",
              "      <td>49</td>\n",
              "    </tr>\n",
              "    <tr>\n",
              "      <th>17</th>\n",
              "      <td>Data Science</td>\n",
              "      <td>Education Details \\r\\n B.Tech   Rayat and Bahr...</td>\n",
              "      <td>49</td>\n",
              "    </tr>\n",
              "    <tr>\n",
              "      <th>7</th>\n",
              "      <td>Data Science</td>\n",
              "      <td>Education Details \\r\\n B.Tech   Rayat and Bahr...</td>\n",
              "      <td>49</td>\n",
              "    </tr>\n",
              "    <tr>\n",
              "      <th>27</th>\n",
              "      <td>Data Science</td>\n",
              "      <td>Education Details \\r\\n B.Tech   Rayat and Bahr...</td>\n",
              "      <td>49</td>\n",
              "    </tr>\n",
              "    <tr>\n",
              "      <th>0</th>\n",
              "      <td>Data Science</td>\n",
              "      <td>Skills * Programming Languages: Python (pandas...</td>\n",
              "      <td>48</td>\n",
              "    </tr>\n",
              "  </tbody>\n",
              "</table>\n",
              "</div>"
            ],
            "text/plain": [
              "        Category                                             Resume  \\\n",
              "37  Data Science  Education Details \\r\\n B.Tech   Rayat and Bahr...   \n",
              "17  Data Science  Education Details \\r\\n B.Tech   Rayat and Bahr...   \n",
              "7   Data Science  Education Details \\r\\n B.Tech   Rayat and Bahr...   \n",
              "27  Data Science  Education Details \\r\\n B.Tech   Rayat and Bahr...   \n",
              "0   Data Science  Skills * Programming Languages: Python (pandas...   \n",
              "\n",
              "    skills_matched  \n",
              "37              49  \n",
              "17              49  \n",
              "7               49  \n",
              "27              49  \n",
              "0               48  "
            ]
          },
          "execution_count": 37,
          "metadata": {},
          "output_type": "execute_result"
        }
      ],
      "source": [
        "df[df['skills_matched']>=40][['Category','Resume','skills_matched']].head()"
      ]
    },
    {
      "cell_type": "code",
      "execution_count": 38,
      "metadata": {},
      "outputs": [
        {
          "data": {
            "text/plain": [
              "44"
            ]
          },
          "execution_count": 38,
          "metadata": {},
          "output_type": "execute_result"
        }
      ],
      "source": [
        "len(df[df['skills_matched']>=40][['Category','Resume','skills_matched']])"
      ]
    },
    {
      "cell_type": "markdown",
      "metadata": {},
      "source": [
        "44 Resumes match more than 40 skills"
      ]
    }
  ],
  "metadata": {
    "colab": {
      "provenance": []
    },
    "kernelspec": {
      "display_name": "Python 3",
      "name": "python3"
    },
    "language_info": {
      "codemirror_mode": {
        "name": "ipython",
        "version": 3
      },
      "file_extension": ".py",
      "mimetype": "text/x-python",
      "name": "python",
      "nbconvert_exporter": "python",
      "pygments_lexer": "ipython3",
      "version": "3.10.7"
    }
  },
  "nbformat": 4,
  "nbformat_minor": 0
}
